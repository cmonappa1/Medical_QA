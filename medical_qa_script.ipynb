{
 "cells": [
  {
   "cell_type": "code",
   "execution_count": 1,
   "id": "a50a73d6-9312-4af1-962c-56fd95c2105a",
   "metadata": {},
   "outputs": [
    {
     "name": "stdout",
     "output_type": "stream",
     "text": [
      "WARNING:tensorflow:From C:\\Users\\codan\\AppData\\Local\\Programs\\Python\\Python310\\lib\\site-packages\\tf_keras\\src\\losses.py:2976: The name tf.losses.sparse_softmax_cross_entropy is deprecated. Please use tf.compat.v1.losses.sparse_softmax_cross_entropy instead.\n",
      "\n"
     ]
    }
   ],
   "source": [
    "import pandas as pd\n",
    "import numpy as np\n",
    "import json\n",
    "import csv\n",
    "import torch\n",
    "from torch.utils.data import Dataset, DataLoader\n",
    "from sklearn.model_selection import train_test_split\n",
    "from sentence_transformers.util import cos_sim\n",
    "from sentence_transformers import SentenceTransformer, util\n",
    "from transformers import T5ForConditionalGeneration, T5Tokenizer, AutoModelForSeq2SeqLM, AutoTokenizer, BertTokenizer, BertForSequenceClassification, AdamW\n",
    "from transformers import AutoModelForSeq2SeqLM, AutoTokenizer\n",
    "import warnings\n",
    "import re\n",
    "import pickle\n",
    "import random\n",
    "from rouge import Rouge\n",
    "\n",
    "warnings.filterwarnings(\"ignore\")"
   ]
  },
  {
   "cell_type": "code",
   "execution_count": 2,
   "id": "29ee0657-7a6f-4784-905e-329ba0ff069d",
   "metadata": {},
   "outputs": [
    {
     "data": {
      "text/plain": [
       "(                                question  \\\n",
       " count                              16406   \n",
       " unique                             14981   \n",
       " top     What causes Causes of Diabetes ?   \n",
       " freq                                  20   \n",
       " \n",
       "                                                    answer  \n",
       " count                                               16401  \n",
       " unique                                              15811  \n",
       " top     This condition is inherited in an autosomal re...  \n",
       " freq                                                  348  ,\n",
       "                          question  \\\n",
       " 0        What is (are) Glaucoma ?   \n",
       " 1        What is (are) Glaucoma ?   \n",
       " 2        What is (are) Glaucoma ?   \n",
       " 3  Who is at risk for Glaucoma? ?   \n",
       " 4       How to prevent Glaucoma ?   \n",
       " \n",
       "                                               answer  \n",
       " 0  Glaucoma is a group of diseases that can damag...  \n",
       " 1  The optic nerve is a bundle of more than 1 mil...  \n",
       " 2  Open-angle glaucoma is the most common form of...  \n",
       " 3  Anyone can develop glaucoma. Some people are a...  \n",
       " 4  At this time, we do not know how to prevent gl...  )"
      ]
     },
     "execution_count": 2,
     "metadata": {},
     "output_type": "execute_result"
    }
   ],
   "source": [
    "# Load dataset \n",
    "df = pd.read_csv(\"mle_screening_dataset.csv\")\n",
    "df.describe(), df.head()"
   ]
  },
  {
   "cell_type": "markdown",
   "id": "97974861-49b9-4f27-ba40-a44b17a93f45",
   "metadata": {},
   "source": [
    "##### What we see over here is that there are only 5 (16406 total - 16401 answers) missing \"answers\". We remove them as they can mess up certain algorithms, such as consine similiarity. We also remove duplicate question answer pairs, but not duplicate questions or duplicate answers. "
   ]
  },
  {
   "cell_type": "code",
   "execution_count": 3,
   "id": "b423982b-8578-48e0-909f-b05dcb20e933",
   "metadata": {},
   "outputs": [],
   "source": [
    "# Data cleaning\n",
    "df = df.dropna(subset=[\"answer\"])\n",
    "df = df.drop_duplicates()"
   ]
  },
  {
   "cell_type": "markdown",
   "id": "d7fa576b-a2b7-4821-9a66-b1b427466c2b",
   "metadata": {},
   "source": [
    "##### I will be showcasing 2 styles of solutions:\n",
    "\n",
    "1. RAG based Retriever\n",
    "2. RAG based Generator"
   ]
  },
  {
   "cell_type": "code",
   "execution_count": 4,
   "id": "4c6dd2dc-8c25-4370-a46b-6ab84a82dffa",
   "metadata": {},
   "outputs": [],
   "source": [
    "class qa_model():\n",
    "    def __init__(self, dataframe = None):\n",
    "        self.df = dataframe\n",
    "        self.train_df, self.test_df = train_test_split(self.df, test_size=0.2, random_state=42)\n",
    "\n",
    "        self.embedding_model = SentenceTransformer(\"all-MiniLM-L6-v2\")\n",
    "        self.embeddings = self.train_df['answer'].tolist()\n",
    "        self.embeddings_vectors = self.embedding_model.encode(self.embeddings, convert_to_tensor=True)\n",
    "        \n",
    "        with open(\"embeddings_vectors.pkl\", \"wb\") as f:\n",
    "            pickle.dump(self.embeddings_vectors, f)\n",
    "\n",
    "        # self.tokenizer = T5Tokenizer.from_pretrained(\"t5-base\")\n",
    "        self.tokenizer = AutoTokenizer.from_pretrained(\"google/flan-t5-base\")\n",
    "        # self.model = T5ForConditionalGeneration.from_pretrained(\"t5-base\").to(\"cpu\")\n",
    "        self.model = AutoModelForSeq2SeqLM.from_pretrained(\"google/flan-t5-base\").to(\"cpu\")\n",
    "\n",
    "    def predict_rag_retriever(self, question):\n",
    "        question_embedding = self.embedding_model.encode(question, convert_to_tensor=True)\n",
    "        results = util.semantic_search(question_embedding, self.embeddings_vectors, top_k=1)\n",
    "        best = results[0][0]\n",
    "        return self.embeddings[best['corpus_id']]\n",
    "    \n",
    "    def get_top_k_answers(self, query, k=3):\n",
    "        query_embedding = self.embedding_model.encode(query, convert_to_tensor=True)\n",
    "        results = util.semantic_search(query_embedding, self.embeddings_vectors, top_k=k)[0]\n",
    "        return [self.embeddings[result['corpus_id']] for result in results]\n",
    "    \n",
    "    def generate_answer(self, question, contexts):\n",
    "        context = \" \\n \".join(contexts)\n",
    "        prompt = f\"question: {question} context: {context}\"\n",
    "        input_ids = self.tokenizer(prompt, return_tensors=\"pt\", truncation=True, padding=True, max_length=512).input_ids.to(\"cpu\")\n",
    "        outputs = self.model.generate(input_ids, max_length=128)\n",
    "        \n",
    "        return self.tokenizer.decode(outputs[0], skip_special_tokens=True)\n",
    "    \n",
    "    def predict_rag_generator(self, question):\n",
    "        top_results = self.get_top_k_answers(question, k=3)\n",
    "        return self.generate_answer(question, top_results)\n",
    "\n",
    "    def predict(self, solution_type = None, question = None):\n",
    "        if solution_type == 1:\n",
    "            output = self.predict_rag_retriever(question)\n",
    "        else:\n",
    "            output = self.predict_rag_generator(question)\n",
    "        return output\n",
    "\n",
    "    def evaluate_rag_retriever(self):\n",
    "        correct = 0\n",
    "        total = 0\n",
    "        threshold = 0.75\n",
    "\n",
    "        for idx, row in self.test_df.iterrows():\n",
    "            question = row['question']\n",
    "            actual_answer = row['answer']\n",
    "            predicted_answer = self.predict_rag_retriever(question)\n",
    "\n",
    "        actual_embed = self.embedding_model.encode(actual_answer, convert_to_tensor=True)\n",
    "        predicted_embed = self.embedding_model.encode(predicted_answer, convert_to_tensor=True)\n",
    "        similarity = cos_sim(actual_embed, predicted_embed).item()\n",
    "\n",
    "        if similarity >= threshold:\n",
    "            correct += 1\n",
    "        total += 1\n",
    "\n",
    "        accuracy = correct / total if total > 0 else 0\n",
    "        print(f\"RAG Retriever Accuracy: {accuracy}\")\n",
    "        # return accuracy\n",
    "\n",
    "    def evaluate_rag_generator(self, max_samples=100):\n",
    "        rouge = Rouge()\n",
    "        scores_list = []\n",
    "    \n",
    "        for idx, row in self.test_df.sample(n=min(max_samples, len(self.test_df)), random_state=42).iterrows():\n",
    "            question = row['question']\n",
    "            reference = row['answer']\n",
    "            generated = self.predict_rag_generator(question)\n",
    "\n",
    "            try:\n",
    "                scores = rouge.get_scores(generated, reference)[0]\n",
    "                scores_list.append(scores)\n",
    "            except Exception as e:\n",
    "                print(f\"Failure at {idx}, {e}\")\n",
    "                continue\n",
    "\n",
    "        avg_scores = {\n",
    "            'rouge-1': {},\n",
    "            'rouge-2': {},\n",
    "            'rouge-l': {}\n",
    "        }\n",
    "\n",
    "        for metric in avg_scores.keys():\n",
    "            avg_scores[metric] = {\n",
    "                'p': sum(score[metric]['p'] for score in scores_list) / len(scores_list),\n",
    "                'r': sum(score[metric]['r'] for score in scores_list) / len(scores_list),\n",
    "                'f': sum(score[metric]['f'] for score in scores_list) / len(scores_list)\n",
    "            }\n",
    "\n",
    "        for metric, values in avg_scores.items():\n",
    "            print(f\"{metric.upper()}: Precision={values['p']}, Recall={values['r']}, F1={values['f']}\")\n",
    "\n",
    "        # return avg_scores\n",
    "                "
   ]
  },
  {
   "cell_type": "code",
   "execution_count": 5,
   "id": "e24a6b13-48e1-460e-938e-2c6b1aed12f6",
   "metadata": {},
   "outputs": [],
   "source": [
    "questions = [\n",
    "    \"What are the symptoms of Glaucoma?\",\n",
    "    \"How is diabetes managed?\",\n",
    "    \"What causes high blood pressure?\"\n",
    "]\n",
    "\n",
    "solution_types = {\n",
    "    1: \"RAG Retriever\",\n",
    "    2: \"RAG Generator\"\n",
    "}\n",
    "\n",
    "nlp = qa_model(dataframe=df)"
   ]
  },
  {
   "cell_type": "code",
   "execution_count": 6,
   "id": "52562c1c-b8cb-4b20-98a3-476233fc6bde",
   "metadata": {},
   "outputs": [
    {
     "name": "stdout",
     "output_type": "stream",
     "text": [
      "\n",
      "=== RAG Retriever ===\n",
      "\n",
      "Q: What are the symptoms of Glaucoma?\n",
      "A: At first, open-angle glaucoma has no symptoms. It causes no pain. Vision seems normal. Without treatment, people with glaucoma will slowly lose their peripheral, or side vision. They seem to be looking through a tunnel. Over time, straight-ahead vision may decrease until no vision remains.\n",
      "\n",
      "Q: How is diabetes managed?\n",
      "A: Diabetes cannot be cured, but it can be managed. Managing blood glucose (blood sugar) as well as blood pressure and cholesterol is the best defense against the serious complications of diabetes. Know What To Do Every Day To manage your diabetes, here are things to do every day.  -  Take your medicines.   -  Keep track of your blood glucose (blood sugar).   -  Check your blood pressure if your doctor advises.   -  Check your feet.   -  Brush your teeth and floss.   -  Stop smoking.   -  Eat well.   -  Be active.  Take your medicines. Keep track of your blood glucose (blood sugar). Check your blood pressure if your doctor advises. Check your feet. Brush your teeth and floss. Stop smoking. Eat well. Be active. (Watch the video to learn more about what one woman does to manage her diabetes every day. To enlarge the video, click the brackets in the lower right-hand corner. To reduce the video, press the Escape (Esc) button on your keyboard.) Take Your Diabetes Medicines People with type 1 diabetes control their blood sugar with insulin -- delivered either by injection or with a pump. Many people with type 2 diabetes can control blood glucose levels with diet and exercise alone. Others require oral medications or insulin, and some may need both, as well as lifestyle modification. Ask your doctor if you need to take aspirin every day to prevent a heart attack or stroke. Keep Track of Your Blood Glucose One of the best ways to find out how well you are taking care of your diabetes is to check your blood to see how much glucose is in it. If your blood has too much or too little glucose, you may need a change in your meal plan, exercise plan, or medication. Ask your doctor how often you should check your blood glucose. Some people check their blood glucose once a day. Others do it three a day or even more. You may be told to check before eating, before bed, and sometimes in the middle of the night. Your doctor or diabetes educator will show you how to check your blood using a blood glucose meter. Your health insurance or Medicare may pay for some of the supplies and equipment you need to check your glucose levels.  See what diabetes supplies and services Medicare covers.  Check Your Blood Pressure Check your blood pressure if your doctor advises and keep a record of it. You can check your pressure at home with a home blood pressure measurement device or monitor. Blood pressure monitors can be bought at discount chain stores and drug stores. When you are taking your blood pressure at home, sit with your back supported and your feet flat on the floor. Rest your arm on a table at the level of your heart. Check with your health care provider to make sure you are using the monitor correctly. Check Your Feet Foot care is very important for people with diabetes. High blood glucose levels and a reduced blood supply to the limbs cause nerve damage that reduces feeling in the feet. Someone with nerve damage may not feel a pebble inside his or her sock that is causing a sore. Or a blister caused by poorly fitting shoes may go unnoticed. Foot injuries such as these can cause ulcers, which may, if not cared for, ultimately lead to the need for amputation. If you have diabetes, - check your feet every day and watch for any cuts, sores, red spots, swelling, and infected toenails.   - report sores, blisters, breaks in the skin, infections, or buildup of calluses to a podiatrist or a family doctor.   - never walk barefoot.   - have your feet checked at every doctor visit.   - take your shoes and socks off when you go into the examining room. This will remind the doctor to check your feet.  check your feet every day and watch for any cuts, sores, red spots, swelling, and infected toenails. report sores, blisters, breaks in the skin, infections, or buildup of calluses to a podiatrist or a family doctor. never walk barefoot. have your feet checked at every doctor visit. take your shoes and socks off when you go into the examining room. This will remind the doctor to check your feet. Learn more about taking care of your feet. Brush Your Teeth and Floss People with diabetes can have tooth and gum problems more often if their blood glucose stays high. High blood glucose also can make tooth and gum problems worse. You can even lose your teeth. Here are ways to protect your teeth and gums. -  Keep your blood glucose as close to normal as possible.   - Use dental floss at least once a day. Flossing helps prevent the buildup of plaque on your teeth. Plaque can harden and grow under your gums and cause problems. Using a sawing motion, gently bring the floss between the teeth, scraping from bottom to top several times.   - Brush your teeth after each meal and snack. Use a soft toothbrush. Turn the bristles against the gum line and brush gently. Use small, circular motions. Brush the front, back, and top of each tooth.  - If you wear false teeth, keep them clean.  - Call your dentist right away if you have problems with your teeth and gums. Keep your blood glucose as close to normal as possible. Use dental floss at least once a day. Flossing helps prevent the buildup of plaque on your teeth. Plaque can harden and grow under your gums and cause problems. Using a sawing motion, gently bring the floss between the teeth, scraping from bottom to top several times. Brush your teeth after each meal and snack. Use a soft toothbrush. Turn the bristles against the gum line and brush gently. Use small, circular motions. Brush the front, back, and top of each tooth. If you wear false teeth, keep them clean. Call your dentist right away if you have problems with your teeth and gums.  Learn more about how diabetes can affect your mouth and teeth. Stop Smoking If you smoke, stop. Smoking raises your risk for many diabetes problems, including heart attack and stroke. Ask for help to quit. Call 1-800 QUITNOW (1-800-784-8669). For more information on smoking and older adults, see  Quitting Smoking for Older Adults.  Eat Well People with diabetes don't need to buy or prepare special foods. The foods that are best for someone with diabetes are excellent choices for everyone: foods that are low in fat, salt, and sugar, and high in fiber, such as beans, fruits, vegetables, and whole grains. These foods help you reach and stay at a weight that's good for your body, keep your blood pressure, glucose and cholesterol in a desirable range, and prevent or delay heart and blood vessel disease. For more on healthy eating, see Small Steps for Eating Healthy Foods. Be Active Try to exercise almost every day for a total of about 30 to 60 minutes. If you haven't exercised lately, begin slowly. Start with 5 to 10 minutes, and then add more time. Or exercise for 10 minutes, three times a day. (Tip: you dont need to get your exercise in all at one time.) For more information on exercise and older adults, see Exercise: How to Get Started or visit  Go4Life, the exercise and physical activity campaign for older adults from the National Institute on Aging. Be sure to check with your doctor before starting an exercise program. Other Areas To Manage Here are other areas to manage if you have diabetes. - Take care of your eyes.   - Protect your kidneys.  -  Protect your skin.  - Learn how to cope with stress.  Take care of your eyes. Protect your kidneys. Protect your skin. Learn how to cope with stress. Take Care of Your Eyes High blood glucose and high blood pressure from diabetes can hurt your eyes. It can even cause blindness, or other painful eye problems. Here are ways to prevent diabetes eye problems. - Keep your blood glucose and blood pressure as close to normal as you can.   - Have an eye care professional examine your eyes once a year. Have this exam even if your vision is okay.  Keep your blood glucose and blood pressure as close to normal as you can. Have an eye care professional examine your eyes once a year. Have this exam even if your vision is okay.  Learn more about eye disease and diabetes. Protect Your Kidneys High blood glucose and high blood pressure may damage the kidneys. Damaged kidneys do not do a good job of filtering out wastes and extra fluid. Here are ways to prevent diabetes kidney problems. - Keep your blood glucose and blood pressure as close to your target goal as you can.  - Get tested at least once a year for kidney disease. Ask your doctor if you should be tested.   - Follow the healthy eating plan you work out with your doctor or dietitian. If you already have kidney problems, your dietitian may suggest you cut back on protein.  Keep your blood glucose and blood pressure as close to your target goal as you can. Get tested at least once a year for kidney disease. Ask your doctor if you should be tested. Follow the healthy eating plan you work out with your doctor or dietitian. If you already have kidney problems, your dietitian may suggest you cut back on protein. Learn more about keeping your kidneys healthy. Protect Your Skin Skin care is very important, too. Because people with diabetes may have more injuries and infections, they should protect their skin by keeping it clean and taking care of minor cuts and bruises. Learn How To Cope With Stress Stress can raise your blood glucose (blood sugar). While it is hard to remove stress from your life, you can learn to handle it. Try deep breathing, gardening, taking a walk, meditating, working on your hobby, or listening to your favorite music.\n",
      "\n",
      "Q: What causes high blood pressure?\n",
      "A: High blood pressure is a common disease in which blood flows through blood vessels (arteries) at higher than normal pressures. There are two main types of high blood pressure: primary and secondary high blood pressure. Primary, or essential, high blood pressure is the most common type of high blood pressure. This type of high blood pressure tends to develop over years as a person ages. Secondary high blood pressure is caused by another medical condition or use of certain medicines. This type usually resolves after the cause is treated or removed.\n",
      "\n",
      "\n",
      "=== RAG Generator ===\n",
      "\n",
      "Q: What are the symptoms of Glaucoma?\n",
      "A: iris\n",
      "\n",
      "Q: How is diabetes managed?\n",
      "A: Keep track of your blood glucose (blood sugar).\n",
      "\n",
      "Q: What causes high blood pressure?\n",
      "A: blood flow through blood vessels\n",
      "\n"
     ]
    }
   ],
   "source": [
    "for sol_type, label in solution_types.items():\n",
    "    print(f\"\\n=== {label} ===\\n\")\n",
    "    for q in questions:\n",
    "        answer = nlp.predict(solution_type=sol_type, question=q)\n",
    "        print(f\"Q: {q}\\nA: {answer}\\n\")"
   ]
  },
  {
   "cell_type": "code",
   "execution_count": 7,
   "id": "67ecf1d0-5ebd-4fe5-bc0c-e1890b075a1e",
   "metadata": {},
   "outputs": [],
   "source": [
    "# nlp.predict(solution_type = 1, question = questions[0])"
   ]
  },
  {
   "cell_type": "code",
   "execution_count": 8,
   "id": "f1e5fd3d-812d-449e-8b01-c60a3f733924",
   "metadata": {},
   "outputs": [],
   "source": [
    "# nlp.predict(solution_type = 2, question = questions[2])"
   ]
  },
  {
   "cell_type": "markdown",
   "id": "7b5af341-3624-46bf-8a46-99d4fa650100",
   "metadata": {},
   "source": [
    "## Model Evaluation"
   ]
  },
  {
   "cell_type": "markdown",
   "id": "101ff3f1-ef94-450c-9d9d-e8c3a3fd75b8",
   "metadata": {},
   "source": [
    "##### The RAG Retriver uses cosine similiarity with a threshold of 0.8 to check if the actual result is close to the predicted result. \n",
    "##### The RAG Generator uses ROUGE, a package that is specifically designed for evaluating automatic summarization. \n",
    "\n",
    "##### ROUGE-1: captures how many individual words match\n",
    "##### ROUGE-2: captures short phrase similarity\n",
    "##### ROUGE-L: captures longest common subsequence"
   ]
  },
  {
   "cell_type": "code",
   "execution_count": 9,
   "id": "7bb3b67f-b2d4-4625-8697-91f44f3b9206",
   "metadata": {},
   "outputs": [
    {
     "name": "stdout",
     "output_type": "stream",
     "text": [
      "RAG Retriever Accuracy: 1.0\n",
      "ROUGE-1: Precision=0.43688479293895627, Recall=0.04596258721821942, F1=0.0748718223003693\n",
      "ROUGE-2: Precision=0.19227596135472844, Recall=0.013829605253526748, F1=0.024074299463576823\n",
      "ROUGE-L: Precision=0.429148973647645, Recall=0.0431345649216121, F1=0.0713189971977033\n"
     ]
    }
   ],
   "source": [
    "nlp.evaluate_rag_retriever()\n",
    "nlp.evaluate_rag_generator()"
   ]
  },
  {
   "cell_type": "code",
   "execution_count": null,
   "id": "ab417cea-3925-433f-9b90-e1a555ad654e",
   "metadata": {},
   "outputs": [],
   "source": []
  },
  {
   "cell_type": "code",
   "execution_count": null,
   "id": "c247e424-11a2-41ff-bb37-16628add547e",
   "metadata": {},
   "outputs": [],
   "source": []
  },
  {
   "cell_type": "code",
   "execution_count": null,
   "id": "addeb104-c9cf-4cf2-841d-335598f84707",
   "metadata": {},
   "outputs": [],
   "source": []
  },
  {
   "cell_type": "code",
   "execution_count": null,
   "id": "fcd02216-10a5-4469-a1e9-cb3ff6cab9ab",
   "metadata": {},
   "outputs": [],
   "source": []
  }
 ],
 "metadata": {
  "kernelspec": {
   "display_name": "Python 3 (ipykernel)",
   "language": "python",
   "name": "python3"
  },
  "language_info": {
   "codemirror_mode": {
    "name": "ipython",
    "version": 3
   },
   "file_extension": ".py",
   "mimetype": "text/x-python",
   "name": "python",
   "nbconvert_exporter": "python",
   "pygments_lexer": "ipython3",
   "version": "3.10.0"
  }
 },
 "nbformat": 4,
 "nbformat_minor": 5
}
